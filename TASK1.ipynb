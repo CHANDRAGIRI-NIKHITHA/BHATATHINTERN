{
 "cells": [
  {
   "cell_type": "markdown",
   "id": "62fd0c47",
   "metadata": {},
   "source": [
    "CHANDRAGIRI NIKHITHA"
   ]
  },
  {
   "cell_type": "markdown",
   "id": "086a84d9",
   "metadata": {},
   "source": [
    "TASK 1: STOCK PREDICTION"
   ]
  },
  {
   "cell_type": "code",
   "execution_count": 25,
   "id": "7d2b96bd",
   "metadata": {},
   "outputs": [],
   "source": [
    "from sklearn.datasets import fetch_openml\n",
    "import matplotlib.pyplot as plt\n",
    "import matplotlib as mlp\n",
    "import numpy as np\n",
    "import pandas as pd\n",
    "from sklearn.linear_model import SGDClassifier\n",
    "from sklearn.model_selection import StratifiedKFold\n",
    "from sklearn.base import clone\n",
    "from sklearn.model_selection import cross_val_score\n",
    "from sklearn.model_selection import cross_val_predict\n",
    "from sklearn.metrics import confusion_matrix\n",
    "from sklearn.metrics import precision_score, recall_score,f1_score"
   ]
  },
  {
   "cell_type": "code",
   "execution_count": 26,
   "id": "9f7194a5",
   "metadata": {
    "scrolled": false
   },
   "outputs": [
    {
     "name": "stderr",
     "output_type": "stream",
     "text": [
      "C:\\Users\\cnikh\\anaconda3\\lib\\site-packages\\sklearn\\datasets\\_openml.py:932: FutureWarning: The default value of `parser` will change from `'liac-arff'` to `'auto'` in 1.4. You can set `parser='auto'` to silence this warning. Therefore, an `ImportError` will be raised from 1.4 if the dataset is dense and pandas is not installed. Note that the pandas parser may return different data types. See the Notes Section in fetch_openml's API doc for details.\n",
      "  warn(\n"
     ]
    },
    {
     "data": {
      "text/plain": [
       "dict_keys(['data', 'target', 'frame', 'categories', 'feature_names', 'target_names', 'DESCR', 'details', 'url'])"
      ]
     },
     "execution_count": 26,
     "metadata": {},
     "output_type": "execute_result"
    }
   ],
   "source": [
    "import ssl\n",
    "ssl._create_default_https_context = ssl._create_unverified_context\n",
    "from sklearn.datasets import fetch_openml\n",
    "mnist=fetch_openml('mnist_784',version=1)\n",
    "mnist.keys()"
   ]
  },
  {
   "cell_type": "code",
   "execution_count": 27,
   "id": "0a2be065",
   "metadata": {},
   "outputs": [],
   "source": [
    "x,y=mnist[\"data\"],mnist[\"target\"]"
   ]
  },
  {
   "cell_type": "code",
   "execution_count": 28,
   "id": "ffa4166a",
   "metadata": {},
   "outputs": [
    {
     "data": {
      "text/plain": [
       "(70000, 784)"
      ]
     },
     "execution_count": 28,
     "metadata": {},
     "output_type": "execute_result"
    }
   ],
   "source": [
    "x.shape"
   ]
  },
  {
   "cell_type": "code",
   "execution_count": 29,
   "id": "4f66d842",
   "metadata": {},
   "outputs": [
    {
     "data": {
      "text/plain": [
       "(70000,)"
      ]
     },
     "execution_count": 29,
     "metadata": {},
     "output_type": "execute_result"
    }
   ],
   "source": [
    "y.shape   "
   ]
  },
  {
   "cell_type": "code",
   "execution_count": 30,
   "id": "3da67f5c",
   "metadata": {},
   "outputs": [
    {
     "data": {
      "text/plain": [
       "<function matplotlib.pyplot.show(close=None, block=None)>"
      ]
     },
     "execution_count": 30,
     "metadata": {},
     "output_type": "execute_result"
    },
    {
     "data": {
      "image/png": "[encoded data removed]",
      "text/plain": [
       "<Figure size 640x480 with 1 Axes>"
      ]
     },
     "metadata": {},
     "output_type": "display_data"
    }
   ],
   "source": [
    "digit=x.values[4]\n",
    "image=digit.reshape(28,28)\n",
    "plt.imshow(image, cmap=mlp.cm.binary,interpolation=\"nearest\")\n",
    "plt.axis(\"off\")\n",
    "plt.show"
   ]
  },
  {
   "cell_type": "code",
   "execution_count": 31,
   "id": "44ddbf6f",
   "metadata": {},
   "outputs": [
    {
     "data": {
      "text/plain": [
       "'9'"
      ]
     },
     "execution_count": 31,
     "metadata": {},
     "output_type": "execute_result"
    }
   ],
   "source": [
    "y[4]"
   ]
  },
  {
   "cell_type": "code",
   "execution_count": 32,
   "id": "e56ed62c",
   "metadata": {},
   "outputs": [
    {
     "data": {
      "text/plain": [
       "0        5\n",
       "1        0\n",
       "2        4\n",
       "3        1\n",
       "4        9\n",
       "        ..\n",
       "69995    2\n",
       "69996    3\n",
       "69997    4\n",
       "69998    5\n",
       "69999    6\n",
       "Name: class, Length: 70000, dtype: uint8"
      ]
     },
     "execution_count": 32,
     "metadata": {},
     "output_type": "execute_result"
    }
   ],
   "source": [
    "y.astype(np.uint8)"
   ]
  },
  {
   "cell_type": "code",
   "execution_count": 33,
   "id": "9585867c",
   "metadata": {},
   "outputs": [],
   "source": [
    "x_train,x_test,y_train,y_test=x[:55500].values,x[55500:].values,y[:55500],y[55500:]"
   ]
  },
  {
   "cell_type": "code",
   "execution_count": 34,
   "id": "34259c9a",
   "metadata": {},
   "outputs": [
    {
     "name": "stdout",
     "output_type": "stream",
     "text": [
      "True\n"
     ]
    }
   ],
   "source": [
    "y_train_5=(y_train=='5').values\n",
    "y_test_5=(y_test=='5').values\n",
    "print(y_train_5[0])"
   ]
  },
  {
   "cell_type": "code",
   "execution_count": 35,
   "id": "f5c5fe86",
   "metadata": {},
   "outputs": [
    {
     "name": "stdout",
     "output_type": "stream",
     "text": [
      "7106\n"
     ]
    }
   ],
   "source": [
    "clf=SGDClassifier(random_state=42)\n",
    "clf.fit(x_train,y_train_5)\n",
    "digit=[5]\n",
    "p=clf.predict(x_test)\n",
    "count=0\n",
    "i=0\n",
    "for x in x_test:\n",
    "  if(clf.predict(x.reshape(1,-1))==y_test_5[i]):\n",
    "    count=count+1\n",
    "    i=i+1\n",
    "print(count)"
   ]
  },
  {
   "cell_type": "code",
   "execution_count": 36,
   "id": "a7ea46af",
   "metadata": {},
   "outputs": [
    {
     "name": "stdout",
     "output_type": "stream",
     "text": [
      "0.967027027027027\n",
      "0.9608648648648649\n",
      "0.9582702702702702\n"
     ]
    }
   ],
   "source": [
    "skfolds=StratifiedKFold(n_splits=3)\n",
    "for train_index, test_index in skfolds.split(x_train, y_train_5):\n",
    "  clone_clf=clone(clf)\n",
    "  x_train_folds=x_train[train_index]\n",
    "  y_train_folds=y_train_5[train_index]\n",
    "  x_test_fold=x_train[test_index]\n",
    "  y_test_fold=y_train_5[test_index]\n",
    "  clone_clf.fit(x_train_folds,y_train_folds)\n",
    "  y_pred=clone_clf.predict(x_test_fold)\n",
    "  n_correct=sum(y_pred==y_test_fold)\n",
    "  print(n_correct/len(y_pred))"
   ]
  },
  {
   "cell_type": "code",
   "execution_count": 37,
   "id": "ea7b6e62",
   "metadata": {},
   "outputs": [
    {
     "data": {
      "text/plain": [
       "array([0.96612613, 0.91351351, 0.96666667, 0.96333333, 0.96504505])"
      ]
     },
     "execution_count": 37,
     "metadata": {},
     "output_type": "execute_result"
    }
   ],
   "source": [
    "cross_val_score(clf,x_train,y_train_5,cv=5,scoring=\"accuracy\")"
   ]
  },
  {
   "cell_type": "code",
   "execution_count": 38,
   "id": "db608a29",
   "metadata": {},
   "outputs": [],
   "source": [
    "y_train_pred=cross_val_predict(clf,x_train,y_train_5,cv=3)"
   ]
  },
  {
   "cell_type": "code",
   "execution_count": 39,
   "id": "874f1e4f",
   "metadata": {},
   "outputs": [
    {
     "data": {
      "text/plain": [
       "array([[49428,  1060],\n",
       "       [ 1046,  3966]], dtype=int64)"
      ]
     },
     "execution_count": 39,
     "metadata": {},
     "output_type": "execute_result"
    }
   ],
   "source": [
    "confusion_matrix(y_train_5,y_train_pred)"
   ]
  },
  {
   "cell_type": "code",
   "execution_count": 40,
   "id": "eaee6c8b",
   "metadata": {},
   "outputs": [
    {
     "name": "stdout",
     "output_type": "stream",
     "text": [
      "PRECISION :\n",
      "0.7890966971746916\n",
      "RECALL :\n",
      "0.7913008778930567\n",
      "F1 SCORE :\n"
     ]
    },
    {
     "data": {
      "text/plain": [
       "0.7901972504482965"
      ]
     },
     "execution_count": 40,
     "metadata": {},
     "output_type": "execute_result"
    }
   ],
   "source": [
    "print(\"PRECISION :\")\n",
    "print(precision_score(y_train_5,y_train_pred))\n",
    "print(\"RECALL :\")\n",
    "print(recall_score(y_train_5,y_train_pred))\n",
    "print(\"F1 SCORE :\")\n",
    "f1_score(y_train_5,y_train_pred)"
   ]
  }
 ],
 "metadata": {
  "kernelspec": {
   "display_name": "Python 3 (ipykernel)",
   "language": "python",
   "name": "python3"
  },
  "language_info": {
   "codemirror_mode": {
    "name": "ipython",
    "version": 3
   },
   "file_extension": ".py",
   "mimetype": "text/x-python",
   "name": "python",
   "nbconvert_exporter": "python",
   "pygments_lexer": "ipython3",
   "version": "3.10.9"
  }
 },
 "nbformat": 4,
 "nbformat_minor": 5
}
