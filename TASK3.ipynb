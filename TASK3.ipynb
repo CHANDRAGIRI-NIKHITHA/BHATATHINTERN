{
 "cells": [
  {
   "cell_type": "markdown",
   "id": "c12fc0d0",
   "metadata": {},
   "source": [
    "CHANDRAGIRI NIKHITHA"
   ]
  },
  {
   "cell_type": "markdown",
   "id": "9f6c8443",
   "metadata": {},
   "source": [
    "TASK 3: NUMBER PREDICTION"
   ]
  },
  {
   "cell_type": "code",
   "execution_count": 4,
   "id": "f0970147",
   "metadata": {},
   "outputs": [
    {
     "name": "stdout",
     "output_type": "stream",
     "text": [
      "Requirement already satisfied: tensorflow in c:\\users\\cnikh\\anaconda3\\lib\\site-packages (2.12.0)\n",
      "Requirement already satisfied: tensorflow-intel==2.12.0 in c:\\users\\cnikh\\anaconda3\\lib\\site-packages (from tensorflow) (2.12.0)\n",
      "Requirement already satisfied: opt-einsum>=2.3.2 in c:\\users\\cnikh\\anaconda3\\lib\\site-packages (from tensorflow-intel==2.12.0->tensorflow) (3.3.0)\n",
      "Requirement already satisfied: h5py>=2.9.0 in c:\\users\\cnikh\\anaconda3\\lib\\site-packages (from tensorflow-intel==2.12.0->tensorflow) (3.7.0)\n",
      "Requirement already satisfied: gast<=0.4.0,>=0.2.1 in c:\\users\\cnikh\\anaconda3\\lib\\site-packages (from tensorflow-intel==2.12.0->tensorflow) (0.4.0)\n",
      "Requirement already satisfied: grpcio<2.0,>=1.24.3 in c:\\users\\cnikh\\anaconda3\\lib\\site-packages (from tensorflow-intel==2.12.0->tensorflow) (1.54.2)\n",
      "Requirement already satisfied: tensorflow-estimator<2.13,>=2.12.0 in c:\\users\\cnikh\\anaconda3\\lib\\site-packages (from tensorflow-intel==2.12.0->tensorflow) (2.12.0)\n",
      "Requirement already satisfied: six>=1.12.0 in c:\\users\\cnikh\\anaconda3\\lib\\site-packages (from tensorflow-intel==2.12.0->tensorflow) (1.16.0)\n",
      "Requirement already satisfied: jax>=0.3.15 in c:\\users\\cnikh\\anaconda3\\lib\\site-packages (from tensorflow-intel==2.12.0->tensorflow) (0.4.12)\n",
      "Requirement already satisfied: tensorboard<2.13,>=2.12 in c:\\users\\cnikh\\anaconda3\\lib\\site-packages (from tensorflow-intel==2.12.0->tensorflow) (2.12.3)\n",
      "Requirement already satisfied: libclang>=13.0.0 in c:\\users\\cnikh\\anaconda3\\lib\\site-packages (from tensorflow-intel==2.12.0->tensorflow) (16.0.0)\n",
      "Requirement already satisfied: numpy<1.24,>=1.22 in c:\\users\\cnikh\\anaconda3\\lib\\site-packages (from tensorflow-intel==2.12.0->tensorflow) (1.23.5)\n",
      "Requirement already satisfied: packaging in c:\\users\\cnikh\\anaconda3\\lib\\site-packages (from tensorflow-intel==2.12.0->tensorflow) (22.0)\n",
      "Requirement already satisfied: termcolor>=1.1.0 in c:\\users\\cnikh\\anaconda3\\lib\\site-packages (from tensorflow-intel==2.12.0->tensorflow) (2.3.0)\n",
      "Requirement already satisfied: absl-py>=1.0.0 in c:\\users\\cnikh\\anaconda3\\lib\\site-packages (from tensorflow-intel==2.12.0->tensorflow) (1.4.0)\n",
      "Requirement already satisfied: flatbuffers>=2.0 in c:\\users\\cnikh\\anaconda3\\lib\\site-packages (from tensorflow-intel==2.12.0->tensorflow) (23.5.26)\n",
      "Requirement already satisfied: typing-extensions>=3.6.6 in c:\\users\\cnikh\\anaconda3\\lib\\site-packages (from tensorflow-intel==2.12.0->tensorflow) (4.4.0)\n",
      "Requirement already satisfied: google-pasta>=0.1.1 in c:\\users\\cnikh\\anaconda3\\lib\\site-packages (from tensorflow-intel==2.12.0->tensorflow) (0.2.0)\n",
      "Requirement already satisfied: keras<2.13,>=2.12.0 in c:\\users\\cnikh\\anaconda3\\lib\\site-packages (from tensorflow-intel==2.12.0->tensorflow) (2.12.0)\n",
      "Requirement already satisfied: tensorflow-io-gcs-filesystem>=0.23.1 in c:\\users\\cnikh\\anaconda3\\lib\\site-packages (from tensorflow-intel==2.12.0->tensorflow) (0.31.0)\n",
      "Requirement already satisfied: setuptools in c:\\users\\cnikh\\anaconda3\\lib\\site-packages (from tensorflow-intel==2.12.0->tensorflow) (65.6.3)\n",
      "Requirement already satisfied: astunparse>=1.6.0 in c:\\users\\cnikh\\anaconda3\\lib\\site-packages (from tensorflow-intel==2.12.0->tensorflow) (1.6.3)\n",
      "Requirement already satisfied: wrapt<1.15,>=1.11.0 in c:\\users\\cnikh\\anaconda3\\lib\\site-packages (from tensorflow-intel==2.12.0->tensorflow) (1.14.1)\n",
      "Requirement already satisfied: protobuf!=4.21.0,!=4.21.1,!=4.21.2,!=4.21.3,!=4.21.4,!=4.21.5,<5.0.0dev,>=3.20.3 in c:\\users\\cnikh\\anaconda3\\lib\\site-packages (from tensorflow-intel==2.12.0->tensorflow) (4.23.2)\n",
      "Requirement already satisfied: wheel<1.0,>=0.23.0 in c:\\users\\cnikh\\anaconda3\\lib\\site-packages (from astunparse>=1.6.0->tensorflow-intel==2.12.0->tensorflow) (0.38.4)\n",
      "Requirement already satisfied: scipy>=1.7 in c:\\users\\cnikh\\anaconda3\\lib\\site-packages (from jax>=0.3.15->tensorflow-intel==2.12.0->tensorflow) (1.10.0)\n",
      "Requirement already satisfied: ml-dtypes>=0.1.0 in c:\\users\\cnikh\\anaconda3\\lib\\site-packages (from jax>=0.3.15->tensorflow-intel==2.12.0->tensorflow) (0.2.0)\n",
      "Requirement already satisfied: google-auth-oauthlib<1.1,>=0.5 in c:\\users\\cnikh\\anaconda3\\lib\\site-packages (from tensorboard<2.13,>=2.12->tensorflow-intel==2.12.0->tensorflow) (1.0.0)\n",
      "Requirement already satisfied: requests<3,>=2.21.0 in c:\\users\\cnikh\\anaconda3\\lib\\site-packages (from tensorboard<2.13,>=2.12->tensorflow-intel==2.12.0->tensorflow) (2.28.1)\n",
      "Requirement already satisfied: markdown>=2.6.8 in c:\\users\\cnikh\\anaconda3\\lib\\site-packages (from tensorboard<2.13,>=2.12->tensorflow-intel==2.12.0->tensorflow) (3.4.1)\n",
      "Requirement already satisfied: tensorboard-data-server<0.8.0,>=0.7.0 in c:\\users\\cnikh\\anaconda3\\lib\\site-packages (from tensorboard<2.13,>=2.12->tensorflow-intel==2.12.0->tensorflow) (0.7.0)\n",
      "Requirement already satisfied: werkzeug>=1.0.1 in c:\\users\\cnikh\\anaconda3\\lib\\site-packages (from tensorboard<2.13,>=2.12->tensorflow-intel==2.12.0->tensorflow) (2.2.2)\n",
      "Requirement already satisfied: google-auth<3,>=1.6.3 in c:\\users\\cnikh\\anaconda3\\lib\\site-packages (from tensorboard<2.13,>=2.12->tensorflow-intel==2.12.0->tensorflow) (2.19.1)\n",
      "Requirement already satisfied: urllib3<2.0 in c:\\users\\cnikh\\anaconda3\\lib\\site-packages (from google-auth<3,>=1.6.3->tensorboard<2.13,>=2.12->tensorflow-intel==2.12.0->tensorflow) (1.26.14)\n",
      "Requirement already satisfied: cachetools<6.0,>=2.0.0 in c:\\users\\cnikh\\anaconda3\\lib\\site-packages (from google-auth<3,>=1.6.3->tensorboard<2.13,>=2.12->tensorflow-intel==2.12.0->tensorflow) (5.3.1)\n",
      "Requirement already satisfied: rsa<5,>=3.1.4 in c:\\users\\cnikh\\anaconda3\\lib\\site-packages (from google-auth<3,>=1.6.3->tensorboard<2.13,>=2.12->tensorflow-intel==2.12.0->tensorflow) (4.9)\n",
      "Requirement already satisfied: pyasn1-modules>=0.2.1 in c:\\users\\cnikh\\anaconda3\\lib\\site-packages (from google-auth<3,>=1.6.3->tensorboard<2.13,>=2.12->tensorflow-intel==2.12.0->tensorflow) (0.2.8)\n",
      "Requirement already satisfied: requests-oauthlib>=0.7.0 in c:\\users\\cnikh\\anaconda3\\lib\\site-packages (from google-auth-oauthlib<1.1,>=0.5->tensorboard<2.13,>=2.12->tensorflow-intel==2.12.0->tensorflow) (1.3.1)\n",
      "Requirement already satisfied: charset-normalizer<3,>=2 in c:\\users\\cnikh\\anaconda3\\lib\\site-packages (from requests<3,>=2.21.0->tensorboard<2.13,>=2.12->tensorflow-intel==2.12.0->tensorflow) (2.0.4)\n",
      "Requirement already satisfied: idna<4,>=2.5 in c:\\users\\cnikh\\anaconda3\\lib\\site-packages (from requests<3,>=2.21.0->tensorboard<2.13,>=2.12->tensorflow-intel==2.12.0->tensorflow) (3.4)\n",
      "Requirement already satisfied: certifi>=2017.4.17 in c:\\users\\cnikh\\anaconda3\\lib\\site-packages (from requests<3,>=2.21.0->tensorboard<2.13,>=2.12->tensorflow-intel==2.12.0->tensorflow) (2022.12.7)\n",
      "Requirement already satisfied: MarkupSafe>=2.1.1 in c:\\users\\cnikh\\anaconda3\\lib\\site-packages (from werkzeug>=1.0.1->tensorboard<2.13,>=2.12->tensorflow-intel==2.12.0->tensorflow) (2.1.1)\n",
      "Requirement already satisfied: pyasn1<0.5.0,>=0.4.6 in c:\\users\\cnikh\\anaconda3\\lib\\site-packages (from pyasn1-modules>=0.2.1->google-auth<3,>=1.6.3->tensorboard<2.13,>=2.12->tensorflow-intel==2.12.0->tensorflow) (0.4.8)\n",
      "Requirement already satisfied: oauthlib>=3.0.0 in c:\\users\\cnikh\\anaconda3\\lib\\site-packages (from requests-oauthlib>=0.7.0->google-auth-oauthlib<1.1,>=0.5->tensorboard<2.13,>=2.12->tensorflow-intel==2.12.0->tensorflow) (3.2.2)\n"
     ]
    }
   ],
   "source": [
    "import pandas as pd\n",
    "import numpy as np\n",
    "import matplotlib.pyplot as plt\n",
    "import seaborn as sns\n",
    "from sklearn.preprocessing import MinMaxScaler\n",
    "from sklearn.model_selection import train_test_split\n",
    "!pip install tensorflow\n",
    "from tensorflow.keras.models import Sequential\n",
    "from tensorflow.keras.layers import Dense\n",
    "from tensorflow.keras.layers import LSTM\n",
    "import math\n",
    "from sklearn.metrics import mean_squared_error, accuracy_score,confusion_matrix,classification_report,f1_score"
   ]
  },
  {
   "cell_type": "code",
   "execution_count": 5,
   "id": "07a0ce9b",
   "metadata": {},
   "outputs": [
    {
     "data": {
      "text/html": [
       "<div>\n",
       "<style scoped>\n",
       "    .dataframe tbody tr th:only-of-type {\n",
       "        vertical-align: middle;\n",
       "    }\n",
       "\n",
       "    .dataframe tbody tr th {\n",
       "        vertical-align: top;\n",
       "    }\n",
       "\n",
       "    .dataframe thead th {\n",
       "        text-align: right;\n",
       "    }\n",
       "</style>\n",
       "<table border=\"1\" class=\"dataframe\">\n",
       "  <thead>\n",
       "    <tr style=\"text-align: right;\">\n",
       "      <th></th>\n",
       "      <th>Date</th>\n",
       "      <th>Open</th>\n",
       "      <th>High</th>\n",
       "      <th>Low</th>\n",
       "      <th>Last</th>\n",
       "      <th>Close</th>\n",
       "      <th>Total Trade Quantity</th>\n",
       "      <th>Turnover (Lacs)</th>\n",
       "    </tr>\n",
       "  </thead>\n",
       "  <tbody>\n",
       "    <tr>\n",
       "      <th>0</th>\n",
       "      <td>28-09-2018</td>\n",
       "      <td>234.05</td>\n",
       "      <td>235.95</td>\n",
       "      <td>230.20</td>\n",
       "      <td>233.50</td>\n",
       "      <td>233.75</td>\n",
       "      <td>3069914</td>\n",
       "      <td>7162.35</td>\n",
       "    </tr>\n",
       "    <tr>\n",
       "      <th>1</th>\n",
       "      <td>27-09-2018</td>\n",
       "      <td>234.55</td>\n",
       "      <td>236.80</td>\n",
       "      <td>231.10</td>\n",
       "      <td>233.80</td>\n",
       "      <td>233.25</td>\n",
       "      <td>5082859</td>\n",
       "      <td>11859.95</td>\n",
       "    </tr>\n",
       "    <tr>\n",
       "      <th>2</th>\n",
       "      <td>26-09-2018</td>\n",
       "      <td>240.00</td>\n",
       "      <td>240.00</td>\n",
       "      <td>232.50</td>\n",
       "      <td>235.00</td>\n",
       "      <td>234.25</td>\n",
       "      <td>2240909</td>\n",
       "      <td>5248.60</td>\n",
       "    </tr>\n",
       "    <tr>\n",
       "      <th>3</th>\n",
       "      <td>25-09-2018</td>\n",
       "      <td>233.30</td>\n",
       "      <td>236.75</td>\n",
       "      <td>232.00</td>\n",
       "      <td>236.25</td>\n",
       "      <td>236.10</td>\n",
       "      <td>2349368</td>\n",
       "      <td>5503.90</td>\n",
       "    </tr>\n",
       "    <tr>\n",
       "      <th>4</th>\n",
       "      <td>24-09-2018</td>\n",
       "      <td>233.55</td>\n",
       "      <td>239.20</td>\n",
       "      <td>230.75</td>\n",
       "      <td>234.00</td>\n",
       "      <td>233.30</td>\n",
       "      <td>3423509</td>\n",
       "      <td>7999.55</td>\n",
       "    </tr>\n",
       "  </tbody>\n",
       "</table>\n",
       "</div>"
      ],
      "text/plain": [
       "         Date    Open    High     Low    Last   Close  Total Trade Quantity  \\\n",
       "0  28-09-2018  234.05  235.95  230.20  233.50  233.75               3069914   \n",
       "1  27-09-2018  234.55  236.80  231.10  233.80  233.25               5082859   \n",
       "2  26-09-2018  240.00  240.00  232.50  235.00  234.25               2240909   \n",
       "3  25-09-2018  233.30  236.75  232.00  236.25  236.10               2349368   \n",
       "4  24-09-2018  233.55  239.20  230.75  234.00  233.30               3423509   \n",
       "\n",
       "   Turnover (Lacs)  \n",
       "0          7162.35  \n",
       "1         11859.95  \n",
       "2          5248.60  \n",
       "3          5503.90  \n",
       "4          7999.55  "
      ]
     },
     "execution_count": 5,
     "metadata": {},
     "output_type": "execute_result"
    }
   ],
   "source": [
    "# Load the data\n",
    "df = pd.read_csv('stockprice.csv')\n",
    "df.head()"
   ]
  },
  {
   "cell_type": "code",
   "execution_count": 6,
   "id": "6bcbfa49",
   "metadata": {},
   "outputs": [
    {
     "data": {
      "text/html": [
       "<div>\n",
       "<style scoped>\n",
       "    .dataframe tbody tr th:only-of-type {\n",
       "        vertical-align: middle;\n",
       "    }\n",
       "\n",
       "    .dataframe tbody tr th {\n",
       "        vertical-align: top;\n",
       "    }\n",
       "\n",
       "    .dataframe thead th {\n",
       "        text-align: right;\n",
       "    }\n",
       "</style>\n",
       "<table border=\"1\" class=\"dataframe\">\n",
       "  <thead>\n",
       "    <tr style=\"text-align: right;\">\n",
       "      <th></th>\n",
       "      <th>Open</th>\n",
       "      <th>High</th>\n",
       "      <th>Low</th>\n",
       "      <th>Last</th>\n",
       "      <th>Close</th>\n",
       "      <th>Total Trade Quantity</th>\n",
       "      <th>Turnover (Lacs)</th>\n",
       "    </tr>\n",
       "  </thead>\n",
       "  <tbody>\n",
       "    <tr>\n",
       "      <th>count</th>\n",
       "      <td>2035.000000</td>\n",
       "      <td>2035.000000</td>\n",
       "      <td>2035.000000</td>\n",
       "      <td>2035.000000</td>\n",
       "      <td>2035.00000</td>\n",
       "      <td>2.035000e+03</td>\n",
       "      <td>2035.000000</td>\n",
       "    </tr>\n",
       "    <tr>\n",
       "      <th>mean</th>\n",
       "      <td>149.713735</td>\n",
       "      <td>151.992826</td>\n",
       "      <td>147.293931</td>\n",
       "      <td>149.474251</td>\n",
       "      <td>149.45027</td>\n",
       "      <td>2.335681e+06</td>\n",
       "      <td>3899.980565</td>\n",
       "    </tr>\n",
       "    <tr>\n",
       "      <th>std</th>\n",
       "      <td>48.664509</td>\n",
       "      <td>49.413109</td>\n",
       "      <td>47.931958</td>\n",
       "      <td>48.732570</td>\n",
       "      <td>48.71204</td>\n",
       "      <td>2.091778e+06</td>\n",
       "      <td>4570.767877</td>\n",
       "    </tr>\n",
       "    <tr>\n",
       "      <th>min</th>\n",
       "      <td>81.100000</td>\n",
       "      <td>82.800000</td>\n",
       "      <td>80.000000</td>\n",
       "      <td>81.000000</td>\n",
       "      <td>80.95000</td>\n",
       "      <td>3.961000e+04</td>\n",
       "      <td>37.040000</td>\n",
       "    </tr>\n",
       "    <tr>\n",
       "      <th>25%</th>\n",
       "      <td>120.025000</td>\n",
       "      <td>122.100000</td>\n",
       "      <td>118.300000</td>\n",
       "      <td>120.075000</td>\n",
       "      <td>120.05000</td>\n",
       "      <td>1.146444e+06</td>\n",
       "      <td>1427.460000</td>\n",
       "    </tr>\n",
       "    <tr>\n",
       "      <th>50%</th>\n",
       "      <td>141.500000</td>\n",
       "      <td>143.400000</td>\n",
       "      <td>139.600000</td>\n",
       "      <td>141.100000</td>\n",
       "      <td>141.25000</td>\n",
       "      <td>1.783456e+06</td>\n",
       "      <td>2512.030000</td>\n",
       "    </tr>\n",
       "    <tr>\n",
       "      <th>75%</th>\n",
       "      <td>157.175000</td>\n",
       "      <td>159.400000</td>\n",
       "      <td>155.150000</td>\n",
       "      <td>156.925000</td>\n",
       "      <td>156.90000</td>\n",
       "      <td>2.813594e+06</td>\n",
       "      <td>4539.015000</td>\n",
       "    </tr>\n",
       "    <tr>\n",
       "      <th>max</th>\n",
       "      <td>327.700000</td>\n",
       "      <td>328.750000</td>\n",
       "      <td>321.650000</td>\n",
       "      <td>325.950000</td>\n",
       "      <td>325.75000</td>\n",
       "      <td>2.919102e+07</td>\n",
       "      <td>55755.080000</td>\n",
       "    </tr>\n",
       "  </tbody>\n",
       "</table>\n",
       "</div>"
      ],
      "text/plain": [
       "              Open         High          Low         Last       Close  \\\n",
       "count  2035.000000  2035.000000  2035.000000  2035.000000  2035.00000   \n",
       "mean    149.713735   151.992826   147.293931   149.474251   149.45027   \n",
       "std      48.664509    49.413109    47.931958    48.732570    48.71204   \n",
       "min      81.100000    82.800000    80.000000    81.000000    80.95000   \n",
       "25%     120.025000   122.100000   118.300000   120.075000   120.05000   \n",
       "50%     141.500000   143.400000   139.600000   141.100000   141.25000   \n",
       "75%     157.175000   159.400000   155.150000   156.925000   156.90000   \n",
       "max     327.700000   328.750000   321.650000   325.950000   325.75000   \n",
       "\n",
       "       Total Trade Quantity  Turnover (Lacs)  \n",
       "count          2.035000e+03      2035.000000  \n",
       "mean           2.335681e+06      3899.980565  \n",
       "std            2.091778e+06      4570.767877  \n",
       "min            3.961000e+04        37.040000  \n",
       "25%            1.146444e+06      1427.460000  \n",
       "50%            1.783456e+06      2512.030000  \n",
       "75%            2.813594e+06      4539.015000  \n",
       "max            2.919102e+07     55755.080000  "
      ]
     },
     "execution_count": 6,
     "metadata": {},
     "output_type": "execute_result"
    }
   ],
   "source": [
    "#Analyze and visualize the dataset\n",
    "df.describe()"
   ]
  },
  {
   "cell_type": "code",
   "execution_count": 7,
   "id": "30d8f608",
   "metadata": {},
   "outputs": [
    {
     "data": {
      "text/html": [
       "<div>\n",
       "<style scoped>\n",
       "    .dataframe tbody tr th:only-of-type {\n",
       "        vertical-align: middle;\n",
       "    }\n",
       "\n",
       "    .dataframe tbody tr th {\n",
       "        vertical-align: top;\n",
       "    }\n",
       "\n",
       "    .dataframe thead th {\n",
       "        text-align: right;\n",
       "    }\n",
       "</style>\n",
       "<table border=\"1\" class=\"dataframe\">\n",
       "  <thead>\n",
       "    <tr style=\"text-align: right;\">\n",
       "      <th></th>\n",
       "      <th>Date</th>\n",
       "      <th>Open</th>\n",
       "      <th>High</th>\n",
       "      <th>Low</th>\n",
       "      <th>Last</th>\n",
       "      <th>Close</th>\n",
       "      <th>Total Trade Quantity</th>\n",
       "      <th>Turnover (Lacs)</th>\n",
       "    </tr>\n",
       "  </thead>\n",
       "  <tbody>\n",
       "    <tr>\n",
       "      <th>count</th>\n",
       "      <td>2035</td>\n",
       "      <td>2035.000000</td>\n",
       "      <td>2035.000000</td>\n",
       "      <td>2035.000000</td>\n",
       "      <td>2035.000000</td>\n",
       "      <td>2035.00000</td>\n",
       "      <td>2.035000e+03</td>\n",
       "      <td>2035.000000</td>\n",
       "    </tr>\n",
       "    <tr>\n",
       "      <th>unique</th>\n",
       "      <td>2035</td>\n",
       "      <td>NaN</td>\n",
       "      <td>NaN</td>\n",
       "      <td>NaN</td>\n",
       "      <td>NaN</td>\n",
       "      <td>NaN</td>\n",
       "      <td>NaN</td>\n",
       "      <td>NaN</td>\n",
       "    </tr>\n",
       "    <tr>\n",
       "      <th>top</th>\n",
       "      <td>28-09-2018</td>\n",
       "      <td>NaN</td>\n",
       "      <td>NaN</td>\n",
       "      <td>NaN</td>\n",
       "      <td>NaN</td>\n",
       "      <td>NaN</td>\n",
       "      <td>NaN</td>\n",
       "      <td>NaN</td>\n",
       "    </tr>\n",
       "    <tr>\n",
       "      <th>freq</th>\n",
       "      <td>1</td>\n",
       "      <td>NaN</td>\n",
       "      <td>NaN</td>\n",
       "      <td>NaN</td>\n",
       "      <td>NaN</td>\n",
       "      <td>NaN</td>\n",
       "      <td>NaN</td>\n",
       "      <td>NaN</td>\n",
       "    </tr>\n",
       "    <tr>\n",
       "      <th>mean</th>\n",
       "      <td>NaN</td>\n",
       "      <td>149.713735</td>\n",
       "      <td>151.992826</td>\n",
       "      <td>147.293931</td>\n",
       "      <td>149.474251</td>\n",
       "      <td>149.45027</td>\n",
       "      <td>2.335681e+06</td>\n",
       "      <td>3899.980565</td>\n",
       "    </tr>\n",
       "    <tr>\n",
       "      <th>std</th>\n",
       "      <td>NaN</td>\n",
       "      <td>48.664509</td>\n",
       "      <td>49.413109</td>\n",
       "      <td>47.931958</td>\n",
       "      <td>48.732570</td>\n",
       "      <td>48.71204</td>\n",
       "      <td>2.091778e+06</td>\n",
       "      <td>4570.767877</td>\n",
       "    </tr>\n",
       "    <tr>\n",
       "      <th>min</th>\n",
       "      <td>NaN</td>\n",
       "      <td>81.100000</td>\n",
       "      <td>82.800000</td>\n",
       "      <td>80.000000</td>\n",
       "      <td>81.000000</td>\n",
       "      <td>80.95000</td>\n",
       "      <td>3.961000e+04</td>\n",
       "      <td>37.040000</td>\n",
       "    </tr>\n",
       "    <tr>\n",
       "      <th>25%</th>\n",
       "      <td>NaN</td>\n",
       "      <td>120.025000</td>\n",
       "      <td>122.100000</td>\n",
       "      <td>118.300000</td>\n",
       "      <td>120.075000</td>\n",
       "      <td>120.05000</td>\n",
       "      <td>1.146444e+06</td>\n",
       "      <td>1427.460000</td>\n",
       "    </tr>\n",
       "    <tr>\n",
       "      <th>50%</th>\n",
       "      <td>NaN</td>\n",
       "      <td>141.500000</td>\n",
       "      <td>143.400000</td>\n",
       "      <td>139.600000</td>\n",
       "      <td>141.100000</td>\n",
       "      <td>141.25000</td>\n",
       "      <td>1.783456e+06</td>\n",
       "      <td>2512.030000</td>\n",
       "    </tr>\n",
       "    <tr>\n",
       "      <th>75%</th>\n",
       "      <td>NaN</td>\n",
       "      <td>157.175000</td>\n",
       "      <td>159.400000</td>\n",
       "      <td>155.150000</td>\n",
       "      <td>156.925000</td>\n",
       "      <td>156.90000</td>\n",
       "      <td>2.813594e+06</td>\n",
       "      <td>4539.015000</td>\n",
       "    </tr>\n",
       "    <tr>\n",
       "      <th>max</th>\n",
       "      <td>NaN</td>\n",
       "      <td>327.700000</td>\n",
       "      <td>328.750000</td>\n",
       "      <td>321.650000</td>\n",
       "      <td>325.950000</td>\n",
       "      <td>325.75000</td>\n",
       "      <td>2.919102e+07</td>\n",
       "      <td>55755.080000</td>\n",
       "    </tr>\n",
       "  </tbody>\n",
       "</table>\n",
       "</div>"
      ],
      "text/plain": [
       "              Date         Open         High          Low         Last  \\\n",
       "count         2035  2035.000000  2035.000000  2035.000000  2035.000000   \n",
       "unique        2035          NaN          NaN          NaN          NaN   \n",
       "top     28-09-2018          NaN          NaN          NaN          NaN   \n",
       "freq             1          NaN          NaN          NaN          NaN   \n",
       "mean           NaN   149.713735   151.992826   147.293931   149.474251   \n",
       "std            NaN    48.664509    49.413109    47.931958    48.732570   \n",
       "min            NaN    81.100000    82.800000    80.000000    81.000000   \n",
       "25%            NaN   120.025000   122.100000   118.300000   120.075000   \n",
       "50%            NaN   141.500000   143.400000   139.600000   141.100000   \n",
       "75%            NaN   157.175000   159.400000   155.150000   156.925000   \n",
       "max            NaN   327.700000   328.750000   321.650000   325.950000   \n",
       "\n",
       "             Close  Total Trade Quantity  Turnover (Lacs)  \n",
       "count   2035.00000          2.035000e+03      2035.000000  \n",
       "unique         NaN                   NaN              NaN  \n",
       "top            NaN                   NaN              NaN  \n",
       "freq           NaN                   NaN              NaN  \n",
       "mean     149.45027          2.335681e+06      3899.980565  \n",
       "std       48.71204          2.091778e+06      4570.767877  \n",
       "min       80.95000          3.961000e+04        37.040000  \n",
       "25%      120.05000          1.146444e+06      1427.460000  \n",
       "50%      141.25000          1.783456e+06      2512.030000  \n",
       "75%      156.90000          2.813594e+06      4539.015000  \n",
       "max      325.75000          2.919102e+07     55755.080000  "
      ]
     },
     "execution_count": 7,
     "metadata": {},
     "output_type": "execute_result"
    }
   ],
   "source": [
    "df.describe(include='all')"
   ]
  },
  {
   "cell_type": "code",
   "execution_count": 8,
   "id": "e07626f0",
   "metadata": {},
   "outputs": [
    {
     "name": "stdout",
     "output_type": "stream",
     "text": [
      "<class 'pandas.core.frame.DataFrame'>\n",
      "RangeIndex: 2035 entries, 0 to 2034\n",
      "Data columns (total 8 columns):\n",
      " #   Column                Non-Null Count  Dtype  \n",
      "---  ------                --------------  -----  \n",
      " 0   Date                  2035 non-null   object \n",
      " 1   Open                  2035 non-null   float64\n",
      " 2   High                  2035 non-null   float64\n",
      " 3   Low                   2035 non-null   float64\n",
      " 4   Last                  2035 non-null   float64\n",
      " 5   Close                 2035 non-null   float64\n",
      " 6   Total Trade Quantity  2035 non-null   int64  \n",
      " 7   Turnover (Lacs)       2035 non-null   float64\n",
      "dtypes: float64(6), int64(1), object(1)\n",
      "memory usage: 127.3+ KB\n"
     ]
    }
   ],
   "source": [
    "df.info()"
   ]
  },
  {
   "cell_type": "code",
   "execution_count": 9,
   "id": "a425393e",
   "metadata": {},
   "outputs": [
    {
     "data": {
      "text/plain": [
       "(2035, 8)"
      ]
     },
     "execution_count": 9,
     "metadata": {},
     "output_type": "execute_result"
    }
   ],
   "source": [
    "df.shape"
   ]
  },
  {
   "cell_type": "code",
   "execution_count": 10,
   "id": "1229c02c",
   "metadata": {},
   "outputs": [
    {
     "data": {
      "text/plain": [
       "Date                    0\n",
       "Open                    0\n",
       "High                    0\n",
       "Low                     0\n",
       "Last                    0\n",
       "Close                   0\n",
       "Total Trade Quantity    0\n",
       "Turnover (Lacs)         0\n",
       "dtype: int64"
      ]
     },
     "execution_count": 10,
     "metadata": {},
     "output_type": "execute_result"
    }
   ],
   "source": [
    "#checking for null values\n",
    "df.isnull().sum()"
   ]
  },
  {
   "cell_type": "code",
   "execution_count": 11,
   "id": "0c731f4c",
   "metadata": {},
   "outputs": [
    {
     "data": {
      "text/plain": [
       "False    2035\n",
       "dtype: int64"
      ]
     },
     "execution_count": 11,
     "metadata": {},
     "output_type": "execute_result"
    }
   ],
   "source": [
    "#checking for duplicates\n",
    "duplicates= df.duplicated()\n",
    "duplicates.value_counts()"
   ]
  },
  {
   "cell_type": "code",
   "execution_count": 12,
   "id": "f9a22e46",
   "metadata": {},
   "outputs": [
    {
     "data": {
      "text/plain": [
       "Index(['Date', 'Open', 'High', 'Low', 'Last', 'Close', 'Total Trade Quantity',\n",
       "       'Turnover (Lacs)'],\n",
       "      dtype='object')"
      ]
     },
     "execution_count": 12,
     "metadata": {},
     "output_type": "execute_result"
    }
   ],
   "source": [
    "df.columns"
   ]
  },
  {
   "cell_type": "code",
   "execution_count": 13,
   "id": "39d26aed",
   "metadata": {},
   "outputs": [
    {
     "name": "stderr",
     "output_type": "stream",
     "text": [
      "C:\\Users\\cnikh\\AppData\\Local\\Temp\\ipykernel_8820\\1324887902.py:2: FutureWarning: The default value of numeric_only in DataFrame.corr is deprecated. In a future version, it will default to False. Select only valid columns or specify the value of numeric_only to silence this warning.\n",
      "  sns.heatmap(df.corr(), annot=True)\n"
     ]
    },
    {
     "data": {
      "text/plain": [
       "<Axes: >"
      ]
     },
     "execution_count": 13,
     "metadata": {},
     "output_type": "execute_result"
    },
    {
     "data": {
      "image/png": "[encoded data removed]",
      "text/plain": [
       "<Figure size 600x600 with 2 Axes>"
      ]
     },
     "metadata": {},
     "output_type": "display_data"
    }
   ],
   "source": [
    "plt.figure(figsize=(6,6))\n",
    "sns.heatmap(df.corr(), annot=True)"
   ]
  },
  {
   "cell_type": "code",
   "execution_count": 14,
   "id": "23f770fd",
   "metadata": {},
   "outputs": [
    {
     "data": {
      "text/plain": [
       "<Axes: xlabel='Date'>"
      ]
     },
     "execution_count": 14,
     "metadata": {},
     "output_type": "execute_result"
    },
    {
     "data": {
      "image/png": "[encoded data removed]",
      "text/plain": [
       "<Figure size 640x480 with 1 Axes>"
      ]
     },
     "metadata": {},
     "output_type": "display_data"
    }
   ],
   "source": [
    "df.plot(x=\"Date\", y=\"Close\")"
   ]
  },
  {
   "cell_type": "code",
   "execution_count": 15,
   "id": "e0c9aca5",
   "metadata": {},
   "outputs": [],
   "source": [
    "df_new=df.reset_index()['Close']"
   ]
  },
  {
   "cell_type": "code",
   "execution_count": 16,
   "id": "aa4b7f23",
   "metadata": {},
   "outputs": [
    {
     "data": {
      "text/plain": [
       "0       233.75\n",
       "1       233.25\n",
       "2       234.25\n",
       "3       236.10\n",
       "4       233.30\n",
       "         ...  \n",
       "2030    118.65\n",
       "2031    117.60\n",
       "2032    120.65\n",
       "2033    120.90\n",
       "2034    121.55\n",
       "Name: Close, Length: 2035, dtype: float64"
      ]
     },
     "execution_count": 16,
     "metadata": {},
     "output_type": "execute_result"
    }
   ],
   "source": [
    "df_new"
   ]
  },
  {
   "cell_type": "code",
   "execution_count": 17,
   "id": "e50ade87",
   "metadata": {},
   "outputs": [
    {
     "data": {
      "text/plain": [
       "array([[0.62418301],\n",
       "       [0.62214052],\n",
       "       [0.62622549],\n",
       "       ...,\n",
       "       [0.1621732 ],\n",
       "       [0.16319444],\n",
       "       [0.16584967]])"
      ]
     },
     "execution_count": 17,
     "metadata": {},
     "output_type": "execute_result"
    }
   ],
   "source": [
    "scaler = MinMaxScaler(feature_range = (0,1))\n",
    "df_new = scaler.fit_transform(np.array(df_new).reshape(-1,1))\n",
    "df_new"
   ]
  },
  {
   "cell_type": "code",
   "execution_count": 18,
   "id": "2fa25755",
   "metadata": {},
   "outputs": [],
   "source": [
    "#Splitting the data into train and test split\n",
    "train_data,test_data= train_test_split(df_new,test_size=0.3)"
   ]
  },
  {
   "cell_type": "code",
   "execution_count": 19,
   "id": "29645a49",
   "metadata": {},
   "outputs": [
    {
     "data": {
      "text/plain": [
       "(1424, 1)"
      ]
     },
     "execution_count": 19,
     "metadata": {},
     "output_type": "execute_result"
    }
   ],
   "source": [
    "train_data.shape"
   ]
  },
  {
   "cell_type": "code",
   "execution_count": 20,
   "id": "f91b0361",
   "metadata": {},
   "outputs": [],
   "source": [
    "#splitting the data into target and features \n",
    "def create_dataset(dataset, time_step=1):\n",
    "    dataX, dataY = [], []\n",
    "    for i in range(len(dataset)-time_step-1):\n",
    "        a = dataset[i:(i+time_step), 0]  \n",
    "        dataX.append(a)\n",
    "        dataY.append(dataset[i + time_step, 0])\n",
    "    return np.array(dataX), np.array(dataY)"
   ]
  },
  {
   "cell_type": "code",
   "execution_count": 21,
   "id": "cb72700b",
   "metadata": {},
   "outputs": [],
   "source": [
    "size=100\n",
    "x_train,y_train=create_dataset(train_data,size)\n",
    "x_test,y_test=create_dataset(train_data,size)"
   ]
  },
  {
   "cell_type": "code",
   "execution_count": 22,
   "id": "f58462ee",
   "metadata": {},
   "outputs": [
    {
     "data": {
      "text/plain": [
       "((1323, 100), (1323,), (1323, 100), (1323,))"
      ]
     },
     "execution_count": 22,
     "metadata": {},
     "output_type": "execute_result"
    }
   ],
   "source": [
    "x_train.shape,y_train.shape,x_test.shape,y_test.shape"
   ]
  },
  {
   "cell_type": "code",
   "execution_count": 23,
   "id": "f3e4da01",
   "metadata": {},
   "outputs": [],
   "source": [
    "#reshaping input \n",
    "x_train=x_train.reshape(x_train.shape[0],x_train.shape[1],1)\n",
    "x_test=x_test.reshape(x_test.shape[0],x_test.shape[1],1)"
   ]
  },
  {
   "cell_type": "code",
   "execution_count": 24,
   "id": "2770d3a9",
   "metadata": {},
   "outputs": [
    {
     "data": {
      "text/plain": [
       "((1323, 100, 1), (1323,), (1323, 100, 1), (1323,))"
      ]
     },
     "execution_count": 24,
     "metadata": {},
     "output_type": "execute_result"
    }
   ],
   "source": [
    "x_train.shape,y_train.shape,x_test.shape,y_test.shape"
   ]
  },
  {
   "cell_type": "code",
   "execution_count": 25,
   "id": "38f26d0e",
   "metadata": {},
   "outputs": [],
   "source": [
    "# Create the Stacked LSTM model\n",
    "model = Sequential()\n",
    "model.add(LSTM(50, return_sequences = True, input_shape = (100,1)))\n",
    "model.add(LSTM(50, return_sequences = True))\n",
    "model.add(LSTM(50))\n",
    "model.add(Dense(1))\n",
    "model.compile(loss = 'mean_squared_error', optimizer = 'adam')"
   ]
  },
  {
   "cell_type": "code",
   "execution_count": 26,
   "id": "bba100fe",
   "metadata": {},
   "outputs": [
    {
     "name": "stdout",
     "output_type": "stream",
     "text": [
      "Model: \"sequential\"\n",
      "_________________________________________________________________\n",
      " Layer (type)                Output Shape              Param #   \n",
      "=================================================================\n",
      " lstm (LSTM)                 (None, 100, 50)           10400     \n",
      "                                                                 \n",
      " lstm_1 (LSTM)               (None, 100, 50)           20200     \n",
      "                                                                 \n",
      " lstm_2 (LSTM)               (None, 50)                20200     \n",
      "                                                                 \n",
      " dense (Dense)               (None, 1)                 51        \n",
      "                                                                 \n",
      "=================================================================\n",
      "Total params: 50,851\n",
      "Trainable params: 50,851\n",
      "Non-trainable params: 0\n",
      "_________________________________________________________________\n"
     ]
    }
   ],
   "source": [
    "model.summary()"
   ]
  },
  {
   "cell_type": "code",
   "execution_count": 27,
   "id": "601b83a0",
   "metadata": {},
   "outputs": [
    {
     "name": "stdout",
     "output_type": "stream",
     "text": [
      "Epoch 1/100\n",
      "21/21 [==============================] - 22s 535ms/step - loss: 0.0520 - val_loss: 0.0409\n",
      "Epoch 2/100\n",
      "21/21 [==============================] - 9s 438ms/step - loss: 0.0413 - val_loss: 0.0411\n",
      "Epoch 3/100\n",
      "21/21 [==============================] - 9s 448ms/step - loss: 0.0410 - val_loss: 0.0409\n",
      "Epoch 4/100\n",
      "21/21 [==============================] - 9s 417ms/step - loss: 0.0410 - val_loss: 0.0410\n",
      "Epoch 5/100\n",
      "21/21 [==============================] - 10s 466ms/step - loss: 0.0409 - val_loss: 0.0408\n",
      "Epoch 6/100\n",
      "21/21 [==============================] - 9s 416ms/step - loss: 0.0410 - val_loss: 0.0415\n",
      "Epoch 7/100\n",
      "21/21 [==============================] - 10s 461ms/step - loss: 0.0409 - val_loss: 0.0405\n",
      "Epoch 8/100\n",
      "21/21 [==============================] - 9s 444ms/step - loss: 0.0407 - val_loss: 0.0405\n",
      "Epoch 9/100\n",
      "21/21 [==============================] - 9s 434ms/step - loss: 0.0406 - val_loss: 0.0405\n",
      "Epoch 10/100\n",
      "21/21 [==============================] - 9s 445ms/step - loss: 0.0409 - val_loss: 0.0405\n",
      "Epoch 11/100\n",
      "21/21 [==============================] - 9s 428ms/step - loss: 0.0408 - val_loss: 0.0404\n",
      "Epoch 12/100\n",
      "21/21 [==============================] - 9s 442ms/step - loss: 0.0406 - val_loss: 0.0404\n",
      "Epoch 13/100\n",
      "21/21 [==============================] - 8s 394ms/step - loss: 0.0404 - val_loss: 0.0405\n",
      "Epoch 14/100\n",
      "21/21 [==============================] - 9s 439ms/step - loss: 0.0406 - val_loss: 0.0404\n",
      "Epoch 15/100\n",
      "21/21 [==============================] - 9s 418ms/step - loss: 0.0407 - val_loss: 0.0404\n",
      "Epoch 16/100\n",
      "21/21 [==============================] - 9s 439ms/step - loss: 0.0409 - val_loss: 0.0404\n",
      "Epoch 17/100\n",
      "21/21 [==============================] - 9s 428ms/step - loss: 0.0405 - val_loss: 0.0404\n",
      "Epoch 18/100\n",
      "21/21 [==============================] - 9s 450ms/step - loss: 0.0406 - val_loss: 0.0403\n",
      "Epoch 19/100\n",
      "21/21 [==============================] - 9s 455ms/step - loss: 0.0404 - val_loss: 0.0403\n",
      "Epoch 20/100\n",
      "21/21 [==============================] - 9s 432ms/step - loss: 0.0404 - val_loss: 0.0403\n",
      "Epoch 21/100\n",
      "21/21 [==============================] - 9s 434ms/step - loss: 0.0405 - val_loss: 0.0403\n",
      "Epoch 22/100\n",
      "21/21 [==============================] - 8s 401ms/step - loss: 0.0404 - val_loss: 0.0409\n",
      "Epoch 23/100\n",
      "21/21 [==============================] - 7s 356ms/step - loss: 0.0404 - val_loss: 0.0403\n",
      "Epoch 24/100\n",
      "21/21 [==============================] - 8s 399ms/step - loss: 0.0404 - val_loss: 0.0403\n",
      "Epoch 25/100\n",
      "21/21 [==============================] - 9s 447ms/step - loss: 0.0406 - val_loss: 0.0403\n",
      "Epoch 26/100\n",
      "21/21 [==============================] - 9s 440ms/step - loss: 0.0405 - val_loss: 0.0404\n",
      "Epoch 27/100\n",
      "21/21 [==============================] - 8s 402ms/step - loss: 0.0405 - val_loss: 0.0403\n",
      "Epoch 28/100\n",
      "21/21 [==============================] - 9s 423ms/step - loss: 0.0405 - val_loss: 0.0403\n",
      "Epoch 29/100\n",
      "21/21 [==============================] - 9s 425ms/step - loss: 0.0404 - val_loss: 0.0403\n",
      "Epoch 30/100\n",
      "21/21 [==============================] - 9s 433ms/step - loss: 0.0404 - val_loss: 0.0405\n",
      "Epoch 31/100\n",
      "21/21 [==============================] - 9s 445ms/step - loss: 0.0405 - val_loss: 0.0403\n",
      "Epoch 32/100\n",
      "21/21 [==============================] - 9s 427ms/step - loss: 0.0409 - val_loss: 0.0414\n",
      "Epoch 33/100\n",
      "21/21 [==============================] - 9s 455ms/step - loss: 0.0408 - val_loss: 0.0404\n",
      "Epoch 34/100\n",
      "21/21 [==============================] - 10s 495ms/step - loss: 0.0404 - val_loss: 0.0403\n",
      "Epoch 35/100\n",
      "21/21 [==============================] - 10s 469ms/step - loss: 0.0405 - val_loss: 0.0411\n",
      "Epoch 36/100\n",
      "21/21 [==============================] - 9s 447ms/step - loss: 0.0409 - val_loss: 0.0404\n",
      "Epoch 37/100\n",
      "21/21 [==============================] - 8s 399ms/step - loss: 0.0404 - val_loss: 0.0403\n",
      "Epoch 38/100\n",
      "21/21 [==============================] - 9s 433ms/step - loss: 0.0405 - val_loss: 0.0405\n",
      "Epoch 39/100\n",
      "21/21 [==============================] - 9s 427ms/step - loss: 0.0406 - val_loss: 0.0403\n",
      "Epoch 40/100\n",
      "21/21 [==============================] - 8s 391ms/step - loss: 0.0407 - val_loss: 0.0407\n",
      "Epoch 41/100\n",
      "21/21 [==============================] - 9s 420ms/step - loss: 0.0405 - val_loss: 0.0403\n",
      "Epoch 42/100\n",
      "21/21 [==============================] - 9s 411ms/step - loss: 0.0405 - val_loss: 0.0403\n",
      "Epoch 43/100\n",
      "21/21 [==============================] - 10s 458ms/step - loss: 0.0404 - val_loss: 0.0403\n",
      "Epoch 44/100\n",
      "21/21 [==============================] - 9s 441ms/step - loss: 0.0404 - val_loss: 0.0403\n",
      "Epoch 45/100\n",
      "21/21 [==============================] - 9s 415ms/step - loss: 0.0408 - val_loss: 0.0403\n",
      "Epoch 46/100\n",
      "21/21 [==============================] - 9s 446ms/step - loss: 0.0403 - val_loss: 0.0403\n",
      "Epoch 47/100\n",
      "21/21 [==============================] - 8s 400ms/step - loss: 0.0404 - val_loss: 0.0402\n",
      "Epoch 48/100\n",
      "21/21 [==============================] - 9s 418ms/step - loss: 0.0404 - val_loss: 0.0410\n",
      "Epoch 49/100\n",
      "21/21 [==============================] - 9s 427ms/step - loss: 0.0403 - val_loss: 0.0404\n",
      "Epoch 50/100\n",
      "21/21 [==============================] - 9s 422ms/step - loss: 0.0404 - val_loss: 0.0402\n",
      "Epoch 51/100\n",
      "21/21 [==============================] - 9s 439ms/step - loss: 0.0403 - val_loss: 0.0402\n",
      "Epoch 52/100\n",
      "21/21 [==============================] - 9s 422ms/step - loss: 0.0412 - val_loss: 0.0419\n",
      "Epoch 53/100\n",
      "21/21 [==============================] - 9s 437ms/step - loss: 0.0406 - val_loss: 0.0402\n",
      "Epoch 54/100\n",
      "21/21 [==============================] - 9s 420ms/step - loss: 0.0405 - val_loss: 0.0403\n",
      "Epoch 55/100\n",
      "21/21 [==============================] - 10s 457ms/step - loss: 0.0406 - val_loss: 0.0406\n",
      "Epoch 56/100\n",
      "21/21 [==============================] - 9s 421ms/step - loss: 0.0405 - val_loss: 0.0403\n",
      "Epoch 57/100\n",
      "21/21 [==============================] - 9s 451ms/step - loss: 0.0405 - val_loss: 0.0403\n",
      "Epoch 58/100\n",
      "21/21 [==============================] - 9s 417ms/step - loss: 0.0403 - val_loss: 0.0405\n",
      "Epoch 59/100\n",
      "21/21 [==============================] - 9s 429ms/step - loss: 0.0403 - val_loss: 0.0404\n",
      "Epoch 60/100\n",
      "21/21 [==============================] - 9s 453ms/step - loss: 0.0404 - val_loss: 0.0403\n",
      "Epoch 61/100\n",
      "21/21 [==============================] - 8s 391ms/step - loss: 0.0405 - val_loss: 0.0404\n",
      "Epoch 62/100\n",
      "21/21 [==============================] - 9s 411ms/step - loss: 0.0403 - val_loss: 0.0402\n",
      "Epoch 63/100\n",
      "21/21 [==============================] - 8s 393ms/step - loss: 0.0403 - val_loss: 0.0404\n",
      "Epoch 64/100\n",
      "21/21 [==============================] - 9s 437ms/step - loss: 0.0403 - val_loss: 0.0402\n",
      "Epoch 65/100\n",
      "21/21 [==============================] - 9s 421ms/step - loss: 0.0406 - val_loss: 0.0405\n",
      "Epoch 66/100\n",
      "21/21 [==============================] - 9s 435ms/step - loss: 0.0404 - val_loss: 0.0403\n",
      "Epoch 67/100\n",
      "21/21 [==============================] - 9s 421ms/step - loss: 0.0404 - val_loss: 0.0402\n",
      "Epoch 68/100\n",
      "21/21 [==============================] - 9s 439ms/step - loss: 0.0402 - val_loss: 0.0402\n",
      "Epoch 69/100\n",
      "21/21 [==============================] - 9s 423ms/step - loss: 0.0404 - val_loss: 0.0403\n",
      "Epoch 70/100\n",
      "21/21 [==============================] - 9s 436ms/step - loss: 0.0404 - val_loss: 0.0402\n",
      "Epoch 71/100\n",
      "21/21 [==============================] - 9s 445ms/step - loss: 0.0405 - val_loss: 0.0408\n",
      "Epoch 72/100\n",
      "21/21 [==============================] - 8s 403ms/step - loss: 0.0405 - val_loss: 0.0402\n",
      "Epoch 73/100\n",
      "21/21 [==============================] - 9s 451ms/step - loss: 0.0403 - val_loss: 0.0402\n",
      "Epoch 74/100\n",
      "21/21 [==============================] - 9s 430ms/step - loss: 0.0404 - val_loss: 0.0402\n",
      "Epoch 75/100\n",
      "21/21 [==============================] - 9s 433ms/step - loss: 0.0403 - val_loss: 0.0403\n",
      "Epoch 76/100\n",
      "21/21 [==============================] - 9s 436ms/step - loss: 0.0406 - val_loss: 0.0404\n",
      "Epoch 77/100\n",
      "21/21 [==============================] - 9s 433ms/step - loss: 0.0405 - val_loss: 0.0403\n",
      "Epoch 78/100\n",
      "21/21 [==============================] - 9s 423ms/step - loss: 0.0403 - val_loss: 0.0403\n",
      "Epoch 79/100\n",
      "21/21 [==============================] - 8s 408ms/step - loss: 0.0403 - val_loss: 0.0402\n",
      "Epoch 80/100\n",
      "21/21 [==============================] - 9s 444ms/step - loss: 0.0403 - val_loss: 0.0403\n",
      "Epoch 81/100\n",
      "21/21 [==============================] - 9s 420ms/step - loss: 0.0403 - val_loss: 0.0402\n",
      "Epoch 82/100\n",
      "21/21 [==============================] - 9s 455ms/step - loss: 0.0403 - val_loss: 0.0402\n",
      "Epoch 83/100\n",
      "21/21 [==============================] - 9s 414ms/step - loss: 0.0404 - val_loss: 0.0403\n",
      "Epoch 84/100\n",
      "21/21 [==============================] - 9s 416ms/step - loss: 0.0407 - val_loss: 0.0403\n",
      "Epoch 85/100\n",
      "21/21 [==============================] - 9s 430ms/step - loss: 0.0405 - val_loss: 0.0402\n",
      "Epoch 86/100\n",
      "21/21 [==============================] - 9s 439ms/step - loss: 0.0403 - val_loss: 0.0409\n",
      "Epoch 87/100\n",
      "21/21 [==============================] - 9s 431ms/step - loss: 0.0406 - val_loss: 0.0403\n",
      "Epoch 88/100\n",
      "21/21 [==============================] - 9s 421ms/step - loss: 0.0403 - val_loss: 0.0402\n",
      "Epoch 89/100\n",
      "21/21 [==============================] - 9s 455ms/step - loss: 0.0403 - val_loss: 0.0402\n",
      "Epoch 90/100\n",
      "21/21 [==============================] - 9s 427ms/step - loss: 0.0403 - val_loss: 0.0402\n",
      "Epoch 91/100\n",
      "21/21 [==============================] - 9s 437ms/step - loss: 0.0403 - val_loss: 0.0403\n",
      "Epoch 92/100\n",
      "21/21 [==============================] - 9s 428ms/step - loss: 0.0403 - val_loss: 0.0403\n",
      "Epoch 93/100\n",
      "21/21 [==============================] - 9s 416ms/step - loss: 0.0404 - val_loss: 0.0402\n",
      "Epoch 94/100\n",
      "21/21 [==============================] - 9s 415ms/step - loss: 0.0403 - val_loss: 0.0402\n",
      "Epoch 95/100\n",
      "21/21 [==============================] - 9s 415ms/step - loss: 0.0403 - val_loss: 0.0402\n",
      "Epoch 96/100\n",
      "21/21 [==============================] - 9s 426ms/step - loss: 0.0405 - val_loss: 0.0403\n",
      "Epoch 97/100\n",
      "21/21 [==============================] - 9s 422ms/step - loss: 0.0404 - val_loss: 0.0402\n",
      "Epoch 98/100\n",
      "21/21 [==============================] - 9s 456ms/step - loss: 0.0403 - val_loss: 0.0403\n",
      "Epoch 99/100\n",
      "21/21 [==============================] - 9s 422ms/step - loss: 0.0403 - val_loss: 0.0405\n",
      "Epoch 100/100\n",
      "21/21 [==============================] - 10s 463ms/step - loss: 0.0406 - val_loss: 0.0402\n"
     ]
    },
    {
     "data": {
      "text/plain": [
       "<keras.callbacks.History at 0x2e86ac7df60>"
      ]
     },
     "execution_count": 27,
     "metadata": {},
     "output_type": "execute_result"
    }
   ],
   "source": [
    "model.fit(x_train, y_train, validation_data = (x_test, y_test), epochs = 100, batch_size = 64, verbose = 1)\n"
   ]
  },
  {
   "cell_type": "code",
   "execution_count": 28,
   "id": "9f53e33f",
   "metadata": {},
   "outputs": [
    {
     "name": "stdout",
     "output_type": "stream",
     "text": [
      "42/42 [==============================] - 8s 87ms/step\n",
      "42/42 [==============================] - 3s 75ms/step\n"
     ]
    }
   ],
   "source": [
    "#predicting\n",
    "train_predict = model.predict(x_train)\n",
    "test_predict = model.predict(x_test)"
   ]
  },
  {
   "cell_type": "code",
   "execution_count": 29,
   "id": "2df0e26d",
   "metadata": {},
   "outputs": [
    {
     "data": {
      "text/plain": [
       "array([[0.2947113 ],\n",
       "       [0.29528168],\n",
       "       [0.2960587 ],\n",
       "       ...,\n",
       "       [0.28323567],\n",
       "       [0.28709537],\n",
       "       [0.29235637]], dtype=float32)"
      ]
     },
     "execution_count": 29,
     "metadata": {},
     "output_type": "execute_result"
    }
   ],
   "source": [
    "train_predict"
   ]
  },
  {
   "cell_type": "code",
   "execution_count": 30,
   "id": "9ab81fee",
   "metadata": {},
   "outputs": [
    {
     "data": {
      "text/plain": [
       "array([[0.2947113 ],\n",
       "       [0.29528168],\n",
       "       [0.2960587 ],\n",
       "       ...,\n",
       "       [0.28323567],\n",
       "       [0.28709537],\n",
       "       [0.29235637]], dtype=float32)"
      ]
     },
     "execution_count": 30,
     "metadata": {},
     "output_type": "execute_result"
    }
   ],
   "source": [
    "test_predict"
   ]
  },
  {
   "cell_type": "code",
   "execution_count": 31,
   "id": "9d2843c2",
   "metadata": {},
   "outputs": [
    {
     "data": {
      "text/plain": [
       "0.20058442322248046"
      ]
     },
     "execution_count": 31,
     "metadata": {},
     "output_type": "execute_result"
    }
   ],
   "source": [
    "math.sqrt(mean_squared_error(y_test, test_predict))"
   ]
  },
  {
   "cell_type": "code",
   "execution_count": 32,
   "id": "8548ed58",
   "metadata": {},
   "outputs": [
    {
     "data": {
      "text/plain": [
       "0.20058442322248046"
      ]
     },
     "execution_count": 32,
     "metadata": {},
     "output_type": "execute_result"
    }
   ],
   "source": [
    "math.sqrt(mean_squared_error(y_train, train_predict))"
   ]
  }
 ],
 "metadata": {
  "kernelspec": {
   "display_name": "Python 3 (ipykernel)",
   "language": "python",
   "name": "python3"
  },
  "language_info": {
   "codemirror_mode": {
    "name": "ipython",
    "version": 3
   },
   "file_extension": ".py",
   "mimetype": "text/x-python",
   "name": "python",
   "nbconvert_exporter": "python",
   "pygments_lexer": "ipython3",
   "version": "3.10.9"
  }
 },
 "nbformat": 4,
 "nbformat_minor": 5
}
